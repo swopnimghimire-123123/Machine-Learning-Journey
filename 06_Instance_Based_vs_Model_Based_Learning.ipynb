{
  "nbformat": 4,
  "nbformat_minor": 0,
  "metadata": {
    "colab": {
      "provenance": [],
      "authorship_tag": "ABX9TyPIzep/NmUGgbSDfu2UGmq3",
      "include_colab_link": true
    },
    "kernelspec": {
      "name": "python3",
      "display_name": "Python 3"
    },
    "language_info": {
      "name": "python"
    }
  },
  "cells": [
    {
      "cell_type": "markdown",
      "metadata": {
        "id": "view-in-github",
        "colab_type": "text"
      },
      "source": [
        "<a href=\"https://colab.research.google.com/github/swopnimghimire-123123/Machine-Learning-Journey/blob/main/06_Instance_Based_vs_Model_Based_Learning.ipynb\" target=\"_parent\"><img src=\"https://colab.research.google.com/assets/colab-badge.svg\" alt=\"Open In Colab\"/></a>"
      ]
    },
    {
      "cell_type": "markdown",
      "metadata": {
        "id": "13149e92"
      },
      "source": [
        "## Instance-Based Learning vs. Model-Based Learning\n",
        "\n",
        "This document explains the difference between two categories of Machine Learning systems: **Instance-Based Learning** and **Model-Based Learning**.\n",
        "\n",
        "### Instance-Based Learning\n",
        "\n",
        "*   **Definition:** Instance-based learning systems learn the training examples by heart and then generalize to new instances based on a similarity measure. Instead of creating an explicit model during training, they simply store the training data. When a new data point needs to be classified or predicted, the system compares it to all or a subset of the stored training instances and makes a decision based on the most similar ones.\n",
        "*   **Mechanism:** It builds hypotheses directly from the training instances. This means the \"model\" is essentially the entire training dataset. The learning happens at prediction time, not at training time. For example, in a K-Nearest Neighbors (KNN) algorithm, when predicting for a new data point, the algorithm finds the K closest data points in the training set and uses their labels to make a prediction.\n",
        "*   **Other Names:** It is also known as **memory-based learning** (because it relies on memorizing the training data) or **lazy learning** (because the computation happens at prediction time, making it \"lazy\" during the training phase).\n",
        "*   **Time Complexity:** The time complexity depends on the size of the training data, particularly during the prediction phase, as the new instance needs to be compared to the training instances. The worst-case time complexity for prediction is often **O(n * d)**, where 'n' is the number of training instances and 'd' is the number of features (assuming a simple distance calculation). Training is typically O(1) as it just involves storing the data.\n",
        "\n",
        "### Model-Based Learning\n",
        "\n",
        "*   **Definition:** Model-based systems learn from the data and create an explicit mathematical or statistical model during the training phase. This model captures the underlying patterns and relationships in the data.\n",
        "*   **Mechanism:** This model has some parameters that are learned during the training process. The system then uses this trained model to predict the output for new data. Once the model is trained, the training data is no longer needed for predictions. Examples include Linear Regression, Logistic Regression, Support Vector Machines, Decision Trees, and Neural Networks. During training, the algorithm adjusts the model's parameters to minimize errors on the training data. At prediction time, the new data point is fed into the learned model, and the model outputs a prediction.\n",
        "*   **Advantages:** Generally faster prediction times once the model is trained, can often generalize well to unseen data, and the learned model can sometimes be interpreted to understand the relationships between features and the target variable.\n",
        "*   **Disadvantages:** Training can be computationally expensive, and the choice of model and its parameters (hyperparameters) can significantly impact performance.\n",
        "\n",
        "### Key Differences\n",
        "\n",
        "| Feature           | Instance-Based Learning                      | Model-Based Learning                                 |\n",
        "|-------------------|----------------------------------------------|------------------------------------------------------|\n",
        "| **Learning Process** | Stores training data and generalizes at prediction time | Creates an explicit model during training         |\n",
        "| **Model**         | The entire training dataset                  | A mathematical or statistical model                  |\n",
        "| **Prediction**    | Compares new instance to stored instances    | Uses the trained model to predict                  |\n",
        "| **Training Time** | Typically O(1) (just storing data)          | Can be computationally expensive                     |\n",
        "| **Prediction Time**| Depends on the size of training data (e.g., O(n*d)) | Generally faster once the model is trained         |\n",
        "| **Interpretability**| Can be less interpretable                  | Model can sometimes be interpreted                   |\n",
        "| **Examples**      | K-Nearest Neighbors (KNN)                  | Linear Regression, SVM, Decision Trees, Neural Networks |"
      ]
    }
  ]
}