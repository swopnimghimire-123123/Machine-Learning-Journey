{
  "nbformat": 4,
  "nbformat_minor": 0,
  "metadata": {
    "colab": {
      "provenance": [],
      "authorship_tag": "ABX9TyNcScoj97GW6RDL8TugGM3L",
      "include_colab_link": true
    },
    "kernelspec": {
      "name": "python3",
      "display_name": "Python 3"
    },
    "language_info": {
      "name": "python"
    }
  },
  "cells": [
    {
      "cell_type": "markdown",
      "metadata": {
        "id": "view-in-github",
        "colab_type": "text"
      },
      "source": [
        "<a href=\"https://colab.research.google.com/github/swopnimghimire-123123/Machine-Learning-Journey/blob/main/10_Introduction_To_Tensor.ipynb\" target=\"_parent\"><img src=\"https://colab.research.google.com/assets/colab-badge.svg\" alt=\"Open In Colab\"/></a>"
      ]
    },
    {
      "cell_type": "markdown",
      "metadata": {
        "id": "877579ae"
      },
      "source": [
        "# Introduction to Tensors\n",
        "\n",
        "Tensors are fundamental building blocks in many areas of mathematics, physics, and especially in modern machine learning and deep learning frameworks like TensorFlow and PyTorch. At their core, tensors are generalizations of scalars, vectors, and matrices.\n",
        "\n",
        "## What is a Tensor?\n",
        "\n",
        "*   **Scalar:** A single number (e.g., 5, -3.14). This is a 0th-order tensor.\n",
        "*   **Vector:** An array of numbers (e.g., [1, 2, 3]). This is a 1st-order tensor.\n",
        "*   **Matrix:** A 2D array of numbers (e.g., [[1, 2], [3, 4]]). This is a 2nd-order tensor.\n",
        "*   **Tensor:** An n-dimensional array of numbers. This is an n-th order tensor.\n",
        "\n",
        "Think of a tensor as a container that can hold data in a structured way, with different levels of complexity based on its \"order\" or \"rank\".\n",
        "\n",
        "## Properties of Tensors\n",
        "\n",
        "1.  **Order/Rank:** The number of dimensions a tensor has. A scalar has rank 0, a vector has rank 1, a matrix has rank 2, and so on.\n",
        "2.  **Shape:** A tuple of integers describing the size of each dimension. For example, a matrix with 3 rows and 4 columns has a shape of (3, 4). A tensor with shape (2, 3, 4) has 2 \"layers\", each with 3 rows and 4 columns.\n",
        "3.  **Data Type:** The type of data stored in the tensor (e.g., integer, float, boolean).\n",
        "\n",
        "## Why are Tensors Important?\n",
        "\n",
        "*   **Representing Data:** Tensors are a natural way to represent many types of data used in machine learning, such as images (height x width x color channels), videos (frames x height x width x color channels), and text (sequences x embeddings).\n",
        "*   **Mathematical Operations:** Many mathematical operations commonly used in machine learning (like matrix multiplication, element-wise operations, and reductions) are defined for tensors. Deep learning models are essentially complex networks of tensor operations.\n",
        "*   **Hardware Acceleration:** Frameworks like TensorFlow and PyTorch are designed to efficiently perform tensor operations on specialized hardware like GPUs (Graphics Processing Units) and TPUs (Tensor Processing Units), which are crucial for training large neural networks.\n",
        "\n",
        "## Tensor Operations\n",
        "\n",
        "Just like you can perform operations on scalars, vectors, and matrices, you can perform operations on tensors. Some common operations include:\n",
        "\n",
        "*   **Addition and Subtraction:** Element-wise operations.\n",
        "*   **Multiplication:** Element-wise multiplication or matrix multiplication (for tensors of appropriate shapes).\n",
        "*   **Broadcasting:** A mechanism that allows operations between tensors of different shapes under certain conditions.\n",
        "*   **Reshaping:** Changing the shape of a tensor without changing its data.\n",
        "*   **Slicing and Indexing:** Accessing specific elements or sub-tensors.\n",
        "\n",
        "## Tensors in Deep Learning Frameworks\n",
        "\n",
        "In deep learning frameworks, tensors are often represented as objects with methods for performing these operations. These frameworks provide optimized implementations of tensor operations, often leveraging hardware acceleration.\n",
        "\n",
        "For example, in PyTorch or TensorFlow, you might create a tensor like this:"
      ]
    },
    {
      "cell_type": "markdown",
      "metadata": {
        "id": "583e97df"
      },
      "source": [
        "## Rank, Axes, and Shape Explained\n",
        "\n",
        "Let's delve deeper into the concepts of rank, axes, and shape:\n",
        "\n",
        "*   **Rank (or Order or Degree):** This is the number of dimensions in the tensor.\n",
        "    *   A scalar has a rank of 0.\n",
        "    *   A vector has a rank of 1.\n",
        "    *   A matrix has a rank of 2.\n",
        "    *   A tensor with 3 dimensions has a rank of 3, and so on.\n",
        "    The rank tells you how many indices you need to access a specific element in the tensor.\n",
        "\n",
        "*   **Axes (or Dimensions):** Each dimension of a tensor is called an axis. Tensors are indexed along their axes.\n",
        "    *   A vector has one axis.\n",
        "    *   A matrix has two axes (typically rows and columns).\n",
        "    *   A 3D tensor has three axes.\n",
        "    The axes are ordered, and we refer to them by their integer index, starting from 0. So, for a 3D tensor, axis 0 might represent layers, axis 1 rows, and axis 2 columns.\n",
        "\n",
        "*   **Shape:** This is a tuple of integers that describes the size of the tensor along each axis. The length of the shape tuple is equal to the rank of the tensor.\n",
        "    *   A scalar has an empty shape `()`.\n",
        "    *   A vector with 5 elements has a shape `(5,)`.\n",
        "    *   A matrix with 3 rows and 4 columns has a shape `(3, 4)`.\n",
        "    *   A 3D tensor with 2 layers, 3 rows, and 4 columns has a shape `(2, 3, 4)`.\n",
        "    The shape tells you the number of elements along each dimension of the tensor.\n",
        "\n",
        "In essence, the rank tells you *how many* dimensions there are, the axes refer to the *individual dimensions* that you can index along, and the shape tells you the *size* of each of those dimensions."
      ]
    },
    {
      "cell_type": "code",
      "metadata": {
        "colab": {
          "base_uri": "https://localhost:8080/"
        },
        "id": "e9874422",
        "outputId": "ca142149-d21e-4798-8712-fc12581b0eb7"
      },
      "source": [
        "import tensorflow as tf\n",
        "\n",
        "# 0D Tensor (Scalar)\n",
        "scalar = tf.constant(5)\n",
        "print(\"0D Tensor (Scalar):\")\n",
        "print(scalar)\n",
        "print(\"Shape:\", scalar.shape)\n",
        "print(\"Rank:\", tf.rank(scalar).numpy())\n",
        "print(\"-\" * 20)\n",
        "\n",
        "# 1D Tensor (Vector)\n",
        "vector = tf.constant([1, 2, 3, 4])\n",
        "print(\"1D Tensor (Vector):\")\n",
        "print(vector)\n",
        "print(\"Shape:\", vector.shape)\n",
        "print(\"Rank:\", tf.rank(vector).numpy())\n",
        "print(\"-\" * 20)\n",
        "\n",
        "# 2D Tensor (Matrix)\n",
        "matrix = tf.constant([[1, 2, 3], [4, 5, 6]])\n",
        "print(\"2D Tensor (Matrix):\")\n",
        "print(matrix)\n",
        "print(\"Shape:\", matrix.shape)\n",
        "print(\"Rank:\", tf.rank(matrix).numpy())\n",
        "print(\"-\" * 20)\n",
        "\n",
        "# 3D Tensor\n",
        "tensor_3d = tf.constant([[[1, 2], [3, 4]], [[5, 6], [7, 8]]])\n",
        "print(\"3D Tensor:\")\n",
        "print(tensor_3d)\n",
        "print(\"Shape:\", tensor_3d.shape)\n",
        "print(\"Rank:\", tf.rank(tensor_3d).numpy())\n",
        "print(\"-\" * 20)\n",
        "\n",
        "# 4D Tensor (example: a batch of images, batch_size x height x width x channels)\n",
        "tensor_4d = tf.constant([\n",
        "    [[[1, 1], [2, 2]], [[3, 3], [4, 4]]],\n",
        "    [[[5, 5], [6, 6]], [[7, 7], [8, 8]]]\n",
        "])\n",
        "print(\"4D Tensor:\")\n",
        "print(tensor_4d)\n",
        "print(\"Shape:\", tensor_4d.shape)\n",
        "print(\"Rank:\", tf.rank(tensor_4d).numpy())\n",
        "print(\"-\" * 20)\n",
        "\n",
        "# 5D Tensor (example: a batch of video frames, batch_size x frames x height x width x channels)\n",
        "tensor_5d = tf.constant([\n",
        "    [[[[[1], [2]], [[3], [4]]]], [[[[5], [6]], [[7], [8]]]]]\n",
        "])\n",
        "print(\"5D Tensor:\")\n",
        "print(tensor_5d)\n",
        "print(\"Shape:\", tensor_5d.shape)\n",
        "print(\"Rank:\", tf.rank(tensor_5d).numpy())\n",
        "print(\"-\" * 20)"
      ],
      "execution_count": null,
      "outputs": [
        {
          "output_type": "stream",
          "name": "stdout",
          "text": [
            "0D Tensor (Scalar):\n",
            "tf.Tensor(5, shape=(), dtype=int32)\n",
            "Shape: ()\n",
            "Rank: 0\n",
            "--------------------\n",
            "1D Tensor (Vector):\n",
            "tf.Tensor([1 2 3 4], shape=(4,), dtype=int32)\n",
            "Shape: (4,)\n",
            "Rank: 1\n",
            "--------------------\n",
            "2D Tensor (Matrix):\n",
            "tf.Tensor(\n",
            "[[1 2 3]\n",
            " [4 5 6]], shape=(2, 3), dtype=int32)\n",
            "Shape: (2, 3)\n",
            "Rank: 2\n",
            "--------------------\n",
            "3D Tensor:\n",
            "tf.Tensor(\n",
            "[[[1 2]\n",
            "  [3 4]]\n",
            "\n",
            " [[5 6]\n",
            "  [7 8]]], shape=(2, 2, 2), dtype=int32)\n",
            "Shape: (2, 2, 2)\n",
            "Rank: 3\n",
            "--------------------\n",
            "4D Tensor:\n",
            "tf.Tensor(\n",
            "[[[[1 1]\n",
            "   [2 2]]\n",
            "\n",
            "  [[3 3]\n",
            "   [4 4]]]\n",
            "\n",
            "\n",
            " [[[5 5]\n",
            "   [6 6]]\n",
            "\n",
            "  [[7 7]\n",
            "   [8 8]]]], shape=(2, 2, 2, 2), dtype=int32)\n",
            "Shape: (2, 2, 2, 2)\n",
            "Rank: 4\n",
            "--------------------\n",
            "5D Tensor:\n",
            "tf.Tensor(\n",
            "[[[[[[1]\n",
            "     [2]]\n",
            "\n",
            "    [[3]\n",
            "     [4]]]]\n",
            "\n",
            "\n",
            "\n",
            "  [[[[5]\n",
            "     [6]]\n",
            "\n",
            "    [[7]\n",
            "     [8]]]]]], shape=(1, 2, 1, 2, 2, 1), dtype=int32)\n",
            "Shape: (1, 2, 1, 2, 2, 1)\n",
            "Rank: 6\n",
            "--------------------\n"
          ]
        }
      ]
    },
    {
      "cell_type": "markdown",
      "metadata": {
        "id": "c629ca1e"
      },
      "source": [
        "Let's illustrate tensors of different dimensions with examples:\n",
        "\n",
        "*   **0D Tensor (Scalar):** A single number."
      ]
    }
  ]
}