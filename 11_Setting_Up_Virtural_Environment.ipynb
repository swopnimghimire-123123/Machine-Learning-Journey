{
  "nbformat": 4,
  "nbformat_minor": 0,
  "metadata": {
    "colab": {
      "provenance": [],
      "authorship_tag": "ABX9TyOVP5m7C31JHV9u1Qy33S1S",
      "include_colab_link": true
    },
    "kernelspec": {
      "name": "python3",
      "display_name": "Python 3"
    },
    "language_info": {
      "name": "python"
    }
  },
  "cells": [
    {
      "cell_type": "markdown",
      "metadata": {
        "id": "view-in-github",
        "colab_type": "text"
      },
      "source": [
        "<a href=\"https://colab.research.google.com/github/swopnimghimire-123123/Machine-Learning-Journey/blob/main/11_Setting_Up_Virtural_Environment.ipynb\" target=\"_parent\"><img src=\"https://colab.research.google.com/assets/colab-badge.svg\" alt=\"Open In Colab\"/></a>"
      ]
    },
    {
      "cell_type": "markdown",
      "metadata": {
        "id": "353958f6"
      },
      "source": [
        "## Setting up a Virtual Environment with Anaconda\n",
        "\n",
        "Virtual environments are crucial for managing project dependencies and avoiding conflicts between different projects. Anaconda simplifies this process. Here's how to set up a virtual environment using Anaconda Prompt:\n",
        "\n",
        "1.  **Open Anaconda Prompt:**\n",
        "    *   Search for \"Anaconda Prompt\" in your operating system's applications menu and open it. This specialized command-line interface is designed to work with Anaconda environments and packages.\n",
        "\n",
        "2.  **Create a new environment:**\n",
        "    *   Use the `conda create` command followed by the name you want to give your environment. It's good practice to give your environment a descriptive name related to your project.\n",
        "    *   You can also specify the Python version you want for this environment. This is highly recommended to ensure compatibility with your project's requirements.\n",
        "    *   The command structure is: `conda create --name your_env_name python=x.x`\n",
        "        *   Replace `your_env_name` with your desired name (e.g., `my_project_env`).\n",
        "        *   Replace `x.x` with the desired Python version (e.g., `3.8`, `3.9`, `3.10`)."
      ]
    },
    {
      "cell_type": "markdown",
      "metadata": {
        "id": "3672a258"
      },
      "source": [
        "## Managing Anaconda Environments\n",
        "\n",
        "Beyond creating environments, here are some useful commands for managing your Anaconda environments:\n",
        "\n",
        "1.  **List all environments:**\n",
        "    To see a list of all your Anaconda environments and their locations, use the following command:"
      ]
    },
    {
      "cell_type": "code",
      "metadata": {
        "id": "3616b2f9"
      },
      "source": [
        "    conda env remove --name your_env_name"
      ],
      "execution_count": null,
      "outputs": []
    },
    {
      "cell_type": "code",
      "metadata": {
        "id": "1190e216"
      },
      "source": [
        "    conda create --name new_env_name --clone original_env_name"
      ],
      "execution_count": null,
      "outputs": []
    },
    {
      "cell_type": "code",
      "metadata": {
        "id": "27057596"
      },
      "source": [
        "    conda activate my_project_env"
      ],
      "execution_count": null,
      "outputs": []
    },
    {
      "cell_type": "code",
      "metadata": {
        "id": "83382da9"
      },
      "source": [
        "    conda install jupyter pandas matplotlib numpy"
      ],
      "execution_count": null,
      "outputs": []
    },
    {
      "cell_type": "code",
      "metadata": {
        "id": "0958201c"
      },
      "source": [
        "    pip install some_package"
      ],
      "execution_count": null,
      "outputs": []
    },
    {
      "cell_type": "code",
      "metadata": {
        "id": "9de4a83a"
      },
      "source": [
        "    jupyter notebook"
      ],
      "execution_count": null,
      "outputs": []
    },
    {
      "cell_type": "code",
      "metadata": {
        "id": "5bb37045"
      },
      "source": [
        "    conda deactivate"
      ],
      "execution_count": null,
      "outputs": []
    }
  ]
}